{
 "cells": [
  {
   "cell_type": "markdown",
   "metadata": {},
   "source": [
    "Import required packages"
   ]
  },
  {
   "cell_type": "code",
   "execution_count": null,
   "metadata": {
    "collapsed": true
   },
   "outputs": [],
   "source": [
    "import unittest, config, MySQLdb, pandas, warnings, numpy, nltk\n",
    "from childes import CHILDESCorpusReader # import from nltk.corpus.reader for original"
   ]
  },
  {
   "cell_type": "markdown",
   "metadata": {},
   "source": [
    "Connect to DB"
   ]
  },
  {
   "cell_type": "code",
   "execution_count": null,
   "metadata": {
    "collapsed": true
   },
   "outputs": [],
   "source": [
    "chompsky_authenticator = config.Authenticator('Chompsky')\n",
    "chompsky_con= MySQLdb.connect(host=chompsky_authenticator.host, \n",
    "                port=chompsky_authenticator.port,user=chompsky_authenticator.user, passwd=chompsky_authenticator.passwd, \n",
    "                db='childes')"
   ]
  },
  {
   "cell_type": "markdown",
   "metadata": {},
   "source": [
    "Configure corpus & files to test"
   ]
  },
  {
   "cell_type": "code",
   "execution_count": null,
   "metadata": {
    "collapsed": true
   },
   "outputs": [],
   "source": [
    "region = 'Eng-NA' # or Eng-UK\n",
    "corpus_name = 'Sachs'\n",
    "fileid_name = 'n02'"
   ]
  },
  {
   "cell_type": "markdown",
   "metadata": {},
   "source": [
    "Set up corpus information"
   ]
  },
  {
   "cell_type": "code",
   "execution_count": null,
   "metadata": {
    "collapsed": true
   },
   "outputs": [],
   "source": [
    "corpus_root = '/home/alsan/corpora/childes-xml/%s' % region\n",
    "corpus = CHILDESCorpusReader(corpus_root, '%s/.*.xml' % corpus_name)\n",
    "fileid = ['%s/%s.xml' % (corpus_name, fileid_name)]\n",
    "filename = '/shared_hd0/corpora/childes_new/%s/n02.cha' % corpus_name"
   ]
  },
  {
   "cell_type": "markdown",
   "metadata": {},
   "source": [
    "Test if words / sentences / mors in CHILDES-DB are equal to those outputted by NLTK reader"
   ]
  },
  {
   "cell_type": "code",
   "execution_count": null,
   "metadata": {
    "collapsed": false
   },
   "outputs": [],
   "source": [
    "class NLTKTest(unittest.TestCase):\n",
    "    \n",
    "    def setUp(self):\n",
    "        sql_words = \" SELECT gloss, mor FROM words \\\n",
    "                      WHERE filename = %(filename)s \"\n",
    "        sql_sents = \" SELECT DISTINCT sentgloss, sentmor FROM words \\\n",
    "                      WHERE filename = %(filename)s \"\n",
    "        \n",
    "        self.words_df = pandas.read_sql(sql_words, chompsky_con, params={'filename':filename})\n",
    "        self.sents_df = pandas.read_sql(sql_sents, chompsky_con, params={'filename':filename})\n",
    "        \n",
    "    def test_word_difference(self):\n",
    "        words_db = self.words_df['gloss'].values.T.tolist()\n",
    "        \n",
    "        words_nltk = corpus.words(fileid)\n",
    "        \n",
    "        words_in_db_not_nltk = set(words_db) - set(words_nltk)\n",
    "        words_in_nltk_not_db = set(words_nltk) - set(words_db)\n",
    "                \n",
    "        self.assertEqual(words_in_db_not_nltk, words_in_nltk_not_db)\n",
    "            \n",
    "    def test_word_mor_difference(self):\n",
    "        tagged_words_nltk = corpus.tagged_words(fileid, stem=True)\n",
    "        word_mors_nltk = [p[1] + \"|\" + p[0] for p in tagged_words_nltk]\n",
    "        \n",
    "        word_mors_db = self.words_df['mor'].values.T.tolist()\n",
    "        \n",
    "        mors_in_db_not_nltk = set(word_mors_db) - set(word_mors_nltk)\n",
    "        mors_in_nltk_not_db = set(word_mors_nltk) - set(word_mors_db)\n",
    "        \n",
    "        self.assertEqual(mors_in_db_not_nltk, mors_in_nltk_not_db)\n",
    "        \n",
    "    def test_sent_difference(self):\n",
    "        sents_db = self.sents_df['sentgloss'].values.T.tolist()\n",
    "        \n",
    "        sents_nltk = [\" \".join(sent_arr) for sent_arr in corpus.sents(fileid)]\n",
    "        \n",
    "        sents_in_db_not_nltk = set(sents_db) - set(sents_nltk)\n",
    "        sents_in_nltk_not_db = set(sents_nltk) - set(sents_db)\n",
    "        \n",
    "        self.assertEqual(sents_in_db_not_nltk, sents_in_nltk_not_db)\n",
    "        \n",
    "    def test_sent_mor_difference(self):\n",
    "        tagged_sents_nltk = corpus.tagged_sents(fileid, stem=True)\n",
    "        sent_mors_nltk = [\" \".join( [p[1] + \"|\" + p[0] for p in arr] ) for arr in tagged_sents_nltk]\n",
    "        \n",
    "        sent_mors_db = self.sents_df['sentmor'].values.T.tolist()\n",
    "        \n",
    "        mors_in_db_not_nltk = set(sent_mors_db) - set(sent_mors_nltk)\n",
    "        mors_in_nltk_not_db = set(sent_mors_nltk) - set(sent_mors_db)\n",
    "        \n",
    "        self.assertEqual(mors_in_db_not_nltk, mors_in_nltk_not_db)\n",
    "        \n",
    "def suite():\n",
    "    test_suite = unittest.TestSuite()\n",
    "    test_suite.addTest(unittest.makeSuite(NLTKTest))\n",
    "    return test_suite"
   ]
  },
  {
   "cell_type": "markdown",
   "metadata": {},
   "source": [
    "Run test suite"
   ]
  },
  {
   "cell_type": "code",
   "execution_count": null,
   "metadata": {
    "collapsed": false
   },
   "outputs": [],
   "source": [
    "test_suite = suite()\n",
    "runner=unittest.TextTestRunner()\n",
    "runner.run(test_suite)"
   ]
  }
 ],
 "metadata": {
  "kernelspec": {
   "display_name": "Python 2",
   "language": "python",
   "name": "python2"
  },
  "language_info": {
   "codemirror_mode": {
    "name": "ipython",
    "version": 2
   },
   "file_extension": ".py",
   "mimetype": "text/x-python",
   "name": "python",
   "nbconvert_exporter": "python",
   "pygments_lexer": "ipython2",
   "version": "2.7.6"
  }
 },
 "nbformat": 4,
 "nbformat_minor": 0
}
