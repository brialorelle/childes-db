{
 "cells": [
  {
   "cell_type": "markdown",
   "metadata": {},
   "source": [
    "Import required packages"
   ]
  },
  {
   "cell_type": "code",
   "execution_count": 6,
   "metadata": {
    "collapsed": true
   },
   "outputs": [],
   "source": [
    "import unittest, config, MySQLdb, pandas, warnings, numpy, nltk\n",
    "from childes import CHILDESCorpusReader # import from nltk.corpus.reader for original"
   ]
  },
  {
   "cell_type": "markdown",
   "metadata": {},
   "source": [
    "Connect to DB"
   ]
  },
  {
   "cell_type": "code",
   "execution_count": 7,
   "metadata": {
    "collapsed": true
   },
   "outputs": [],
   "source": [
    "chompsky_authenticator = config.Authenticator('Chompsky')\n",
    "chompsky_con= MySQLdb.connect(host=chompsky_authenticator.host, \n",
    "                port=chompsky_authenticator.port,user=chompsky_authenticator.user, passwd=chompsky_authenticator.passwd, \n",
    "                db='childes')"
   ]
  },
  {
   "cell_type": "markdown",
   "metadata": {},
   "source": [
    "Configure corpus & files to test"
   ]
  },
  {
   "cell_type": "code",
   "execution_count": 8,
   "metadata": {
    "collapsed": true
   },
   "outputs": [],
   "source": [
    "region = 'Eng-NA' # or Eng-UK\n",
    "corpus_name = 'Sachs'\n",
    "fileid_name = 'n02'"
   ]
  },
  {
   "cell_type": "markdown",
   "metadata": {},
   "source": [
    "Set up corpus information"
   ]
  },
  {
   "cell_type": "code",
   "execution_count": 9,
   "metadata": {
    "collapsed": true
   },
   "outputs": [],
   "source": [
    "corpus_root = '/home/alsan/corpora/childes-xml/%s' % region\n",
    "corpus = CHILDESCorpusReader(corpus_root, '%s/.*.xml' % corpus_name)\n",
    "fileid = ['%s/%s.xml' % (corpus_name, fileid_name)]\n",
    "filename = '/shared_hd0/corpora/childes_new/%s/n02.cha' % corpus_name"
   ]
  },
  {
   "cell_type": "markdown",
   "metadata": {},
   "source": [
    "Test if words / sentences / mors in CHILDES-DB are equal to those outputted by NLTK reader"
   ]
  },
  {
   "cell_type": "code",
   "execution_count": 13,
   "metadata": {
    "collapsed": false
   },
   "outputs": [],
   "source": [
    "class NLTKTest(unittest.TestCase):\n",
    "    \n",
    "    def setUp(self):\n",
    "        sql_words = \" SELECT gloss, mor FROM words \\\n",
    "                      WHERE filename = %(filename)s \"\n",
    "        sql_sents = \" SELECT DISTINCT sentgloss, sentmor FROM words \\\n",
    "                      WHERE filename = %(filename)s \"\n",
    "        \n",
    "        self.words_df = pandas.read_sql(sql_words, chompsky_con, params={'filename':filename})\n",
    "        self.sents_df = pandas.read_sql(sql_sents, chompsky_con, params={'filename':filename})\n",
    "        \n",
    "    def test_word_difference(self):\n",
    "        words_db = self.words_df['gloss'].values.T.tolist()\n",
    "        \n",
    "        words_nltk = corpus.words(fileid)\n",
    "                \n",
    "        self.assertEqual(set(words_db), set(words_nltk))\n",
    "            \n",
    "    def atest_word_mor_difference(self):\n",
    "        word_mors_db = self.words_df['mor'].values.T.tolist()\n",
    "        \n",
    "        tagged_words_nltk = corpus.tagged_words(fileid, stem=True)\n",
    "        word_mors_nltk = [p[1] + \"|\" + p[0] for p in tagged_words_nltk]\n",
    "        \n",
    "        self.assertEqual(set(word_mors_db), set(word_mors_nltk))\n",
    "        \n",
    "    def atest_sent_difference(self):\n",
    "        sents_db = self.sents_df['sentgloss'].values.T.tolist()\n",
    "        \n",
    "        sents_nltk = [\" \".join(sent_arr) for sent_arr in corpus.sents(fileid)]\n",
    "        \n",
    "        self.assertEqual(set(sents_db), set(sents_nltk))\n",
    "        \n",
    "    def atest_sent_mor_difference(self):\n",
    "        sent_mors_db = self.sents_df['sentmor'].values.T.tolist()\n",
    "        \n",
    "        tagged_sents_nltk = corpus.tagged_sents(fileid, stem=True)\n",
    "        sent_mors_nltk = [\" \".join( [p[1] + \"|\" + p[0] for p in arr] ) for arr in tagged_sents_nltk]\n",
    "        \n",
    "        self.assertEqual(set(sent_mors_db), set(sent_mors_nltk))\n",
    "        \n",
    "def suite():\n",
    "    test_suite = unittest.TestSuite()\n",
    "    test_suite.addTest(unittest.makeSuite(NLTKTest))\n",
    "    return test_suite"
   ]
  },
  {
   "cell_type": "markdown",
   "metadata": {},
   "source": [
    "Run test suite"
   ]
  },
  {
   "cell_type": "code",
   "execution_count": 14,
   "metadata": {
    "collapsed": false
   },
   "outputs": [
    {
     "name": "stderr",
     "output_type": "stream",
     "text": [
      "F\n",
      "======================================================================\n",
      "FAIL: test_word_difference (__main__.NLTKTest)\n",
      "----------------------------------------------------------------------\n",
      "Traceback (most recent call last):\n",
      "  File \"<ipython-input-13-b956e803621a>\", line 18, in test_word_difference\n",
      "    self.assertEqual(set(words_db), set(words_nltk))\n",
      "AssertionError: Items in the first set but not the second:\n",
      "'&hmm'\n",
      "'&aw'\n",
      "'&eh'\n",
      "'0'\n",
      "'&ah'\n",
      "'&mm'\n",
      "'&um'\n",
      "'&uh'\n",
      "Items in the second set but not the first:\n",
      "'um'\n",
      "'eh'\n",
      "u'mm'\n",
      "u'ah'\n",
      "u'sipper'\n",
      "u'boydie'\n",
      "u'dat'\n",
      "u'hm'\n",
      "u'blankin'\n",
      "'uh'\n",
      "'aw'\n",
      "u'whatcha'\n",
      "\n",
      "----------------------------------------------------------------------\n",
      "Ran 1 test in 0.180s\n",
      "\n",
      "FAILED (failures=1)\n"
     ]
    },
    {
     "data": {
      "text/plain": [
       "<unittest.runner.TextTestResult run=1 errors=0 failures=1>"
      ]
     },
     "execution_count": 14,
     "metadata": {},
     "output_type": "execute_result"
    }
   ],
   "source": [
    "test_suite = suite()\n",
    "runner=unittest.TextTestRunner()\n",
    "runner.run(test_suite)"
   ]
  },
  {
   "cell_type": "code",
   "execution_count": null,
   "metadata": {
    "collapsed": true
   },
   "outputs": [],
   "source": []
  }
 ],
 "metadata": {
  "kernelspec": {
   "display_name": "Python 2",
   "language": "python",
   "name": "python2"
  },
  "language_info": {
   "codemirror_mode": {
    "name": "ipython",
    "version": 2
   },
   "file_extension": ".py",
   "mimetype": "text/x-python",
   "name": "python",
   "nbconvert_exporter": "python",
   "pygments_lexer": "ipython2",
   "version": "2.7.6"
  }
 },
 "nbformat": 4,
 "nbformat_minor": 0
}
