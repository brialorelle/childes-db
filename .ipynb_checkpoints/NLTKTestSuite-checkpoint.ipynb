{
 "cells": [
  {
   "cell_type": "markdown",
   "metadata": {},
   "source": [
    "Import required packages"
   ]
  },
  {
   "cell_type": "code",
   "execution_count": 1,
   "metadata": {
    "collapsed": true
   },
   "outputs": [],
   "source": [
    "import unittest, config, MySQLdb, pandas, warnings, numpy, nltk\n",
    "from nltk.corpus.reader import CHILDESCorpusReader"
   ]
  },
  {
   "cell_type": "markdown",
   "metadata": {},
   "source": [
    "Connect to DB"
   ]
  },
  {
   "cell_type": "code",
   "execution_count": null,
   "metadata": {
    "collapsed": true
   },
   "outputs": [],
   "source": [
    "chompsky_authenticator = config.Authenticator('Chompsky')\n",
    "chompsky_con= MySQLdb.connect(host=chompsky_authenticator.host, \n",
    "                port=chompsky_authenticator.port,user=chompsky_authenticator.user, passwd=chompsky_authenticator.passwd, \n",
    "                db='childes')"
   ]
  },
  {
   "cell_type": "markdown",
   "metadata": {},
   "source": [
    "Configure corpus & files to test"
   ]
  },
  {
   "cell_type": "code",
   "execution_count": null,
   "metadata": {
    "collapsed": true
   },
   "outputs": [],
   "source": [
    "\n",
    "num_files = 1\n",
    "\n",
    "corpus_root = '/home/alsan/corpora/childes-xml/Eng-NA'\n",
    "\n",
    "fileids = ['Sachs/n02.xml']\n",
    "limit = 30\n",
    "cha_ext = '.cha'\n",
    "xml_ext = '.xml'\n",
    "corpus = 'Sachs'\n",
    "filename = '/shared_hd0/corpora/childes_new/%s/n02.cha' % corpus\n",
    "\n",
    "sachs = CHILDESCorpusReader(corpus_root, 'Sachs/.*.xml')\n",
    "\n",
    "# grab from list of corpora (as db is limited?)"
   ]
  },
  {
   "cell_type": "code",
   "execution_count": null,
   "metadata": {
    "collapsed": false
   },
   "outputs": [],
   "source": [
    "class NLTKTest(unittest.TestCase):\n",
    "        \n",
    "    def checkWordCount(self):\n",
    "        sql = \" SELECT gloss FROM words \\\n",
    "                WHERE filename = %(filename)s \\\n",
    "                ORDER BY RAND() LIMIT 30 \"\n",
    "        \n",
    "        words_db = pandas.read_sql(sql, chompsky_con, params={'filename':filename})\n",
    "        \n",
    "        words_nltk = sachs.words(fileids)\n",
    "        \n",
    "        words_in_db_not_nltk = []\n",
    "        for index, row in sw.iterrows():\n",
    "            word = row['gloss']\n",
    "            if word not in w:\n",
    "                diff.append(word)\n",
    "        \n",
    "        \n",
    "    def test2(self):\n",
    "        print('test2')\n",
    "        \n",
    "    def test3(self):\n",
    "        self.fail('what')\n",
    "        print('test 3')\n",
    "        \n",
    "def suite():\n",
    "    test_suite = unittest.TestSuite()\n",
    "    test_suite.addTest(unittest.makeSuite(NLTKTest))\n",
    "    return test_suite"
   ]
  },
  {
   "cell_type": "code",
   "execution_count": null,
   "metadata": {
    "collapsed": false
   },
   "outputs": [],
   "source": [
    "test_suite = suite()\n",
    "runner=unittest.TextTestRunner()\n",
    "runner.run(test_suite)"
   ]
  },
  {
   "cell_type": "code",
   "execution_count": null,
   "metadata": {
    "collapsed": true
   },
   "outputs": [],
   "source": []
  }
 ],
 "metadata": {
  "kernelspec": {
   "display_name": "Python 2",
   "language": "python",
   "name": "python2"
  },
  "language_info": {
   "codemirror_mode": {
    "name": "ipython",
    "version": 2
   },
   "file_extension": ".py",
   "mimetype": "text/x-python",
   "name": "python",
   "nbconvert_exporter": "python",
   "pygments_lexer": "ipython2",
   "version": "2.7.6"
  }
 },
 "nbformat": 4,
 "nbformat_minor": 0
}
