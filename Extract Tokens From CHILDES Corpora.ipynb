{
 "cells": [
  {
   "cell_type": "markdown",
   "metadata": {},
   "source": [
    "Extract tokens from longitudinal corpora, including:\n",
    "<ul>\n",
    "<li>Bloom 1970</li>\n",
    "<li>Brown</li>\n",
    "<li>Suppes</li>\n",
    "<li>Providence</li>\n",
    "<li>Sachs</li>\n",
    "</ul>\n",
    "\n",
    "For further consideration:\n",
    "<ul>\n",
    "<li>Higginson (Naturalistic short-term longitudinal observations of mother–child interactions in unstructured play sessions)</li>\n",
    "<li>Post</li>\n",
    "<li>Bates</li>\n",
    "<li>Demettras</li>\n",
    "<li>Braunwald</li>\n",
    "<li>Clark</li>\n",
    "<li>Davis</li>\n",
    "<li>Feldman</li>\n",
    "<li>Inkelas (no morphology?)</li>\n",
    "<li>MacWhinney</li>\n",
    "<li>Weist</li>\n",
    "</ul>"
   ]
  },
  {
   "cell_type": "code",
   "execution_count": 1,
   "metadata": {
    "collapsed": false
   },
   "outputs": [
    {
     "name": "stderr",
     "output_type": "stream",
     "text": [
      "Warning message:\n",
      "In library(\"parallel\", \"plyr\", \"tools\", \"stringr\"): 'tools' not found on search path, using pos = 2"
     ]
    }
   ],
   "source": [
    "options(stringsAsFactors = FALSE)\n",
    "source(\"CLANtoR.R\")\n",
    "source(\"config.R\")\n",
    "library('parallel','plyr','tools','stringr')\n",
    "wordsToExclude = c(\"hmm\", \"hm\", \"mm\", \"uh\", \"uhh\", \"ah\", \"um\",\"uhhuh\",\"eh\",\"xxx\",\"yyy\", \"xx\", 'yy','aw', 'www','er','ka')\n",
    "noUtt = c(\"0\")\n",
    "metadataRows = c('sentGloss','sentMor','Speaker','xgr','pho','act','gpx','sit','com', 'par','Filename','Participants',\n",
    "                 'Date',\"Language\",\"Corpus\",\"Age\",\"Gender\",\"Utt.Number\",\"index\",\"add\",\"alt\",\"int\",\"spa\",\"err\",\"eng\")\n",
    "reformulations = paste(c(\"\\\\[\\\\/\\\\/\\\\]\",\"\\\\[\\\\/\\\\]\", \"\\\\[\\\\/\\\\?\\\\]\", \"\\\\[\\\\/\\\\/\\\\/\\\\]\",\"\\\\[\\\\/-\\\\]\"), collapse='|')"
   ]
  },
  {
   "cell_type": "code",
   "execution_count": 2,
   "metadata": {
    "collapsed": false
   },
   "outputs": [],
   "source": [
    "sentenceHandler = function(row){\n",
    "    #!!! the problem is that there are many sentences where the word nodes do not have all of the metadata, \n",
    "    #leading to mismatches in the length of the arrays    \n",
    "    \n",
    "    temp_glosses = row$Gloss\n",
    "    if (length(grep(reformulations,temp_glosses)) > 0){ \n",
    "       #handle reformulations using the script from Naomi\n",
    "       \toriginal_mor = cleanMOR(row$mor)          \t\n",
    "       \tscrubbedGloss =  paste(removeAudioTags(strsplit(temp_glosses, ' ')[[1]]), collapse=' ')\n",
    "     \tmors = process_backslash_mor(original_gloss = scrubbedGloss, original_mor, reformulations)\n",
    "        if (is.na(mors)){\n",
    "            return(NULL)\n",
    "        } \n",
    " \t    mors = mors[!is.na(mors)]        \n",
    "    } else {\n",
    "        mors = cleanMOR(row$mor)   \n",
    "    }\n",
    "               \n",
    "    glosses = cleanGloss(temp_glosses)        \n",
    "    \n",
    "    #handle any mismatches in length:\n",
    "    if (length(glosses) > length(mors)){\n",
    "        # handle a mismatch in the length of the two cleaned vectors    \n",
    "        \n",
    "        #Why not use the gloss to index into the mors, and find the corresponding term for each?\n",
    "        #b/c there's aproblem with indexing in from the gloss is that there are complex terms \n",
    "        #like don't == aux|do~neg|not        \n",
    "        \n",
    "        newMor = mat.or.vec(length(mors),1)\n",
    "        offset = 0 #this is the difference between the index in glosses and the index in mor\n",
    "        \n",
    "        for (i in 1:length(glosses)){\n",
    "            if (length(grep('&=', glosses[i])) > 0){\n",
    "                newMor[i] = 'NON-LINGUISTIC'       \n",
    "                offset = offset + 1\n",
    "            } else if ((length(grep('^&', glosses[i])) > 0) | glosses[i] %in% wordsToExclude){\n",
    "                newMor[i] = 'EXC'       \n",
    "                offset = offset + 1\n",
    "            } else if (glosses[i] %in% noUtt){\n",
    "                newMor[i] = 'NO_UTT'\n",
    "                offset = offset + 1\n",
    "            } else {\n",
    "                newMor[i] = mors[i-offset]\n",
    "            }            \n",
    "        }\n",
    "        \n",
    "        if(length(glosses) != length(newMor)){\n",
    "            print('Glosses: ')\n",
    "            print(glosses)\n",
    "            print('Original Mors:')\n",
    "            print(mors)\n",
    "            print('Corrected Mors:')\n",
    "            print(newMor)\n",
    "            stop('Recovery process for longer gloss failed')\n",
    "        } else {\n",
    "            mors = newMor            \n",
    "        }\n",
    "    } else if (length(glosses) < length(mors)){         \n",
    "        #print('Glosses: ')\n",
    "        #print(glosses)\n",
    "        #print('Mors:')\n",
    "        #print(mors)\n",
    "        #print('Row')\n",
    "        #print(row)\n",
    "        #stop('No recovery process for longer MOR line')\n",
    "        return(NULL)\n",
    "    }\n",
    "        \n",
    "    splitGlosses = strsplit(glosses,'@') \n",
    "    glosses = sapply(splitGlosses, function(x){x[1]})\n",
    "    atTags = sapply(splitGlosses, function(x){ ifelse(length(x) > 1,x[2],'NA')})    \n",
    "    \n",
    "    #print('Gloss')\n",
    "    #print(glosses)\n",
    "    #print('Mor')\n",
    "    #print(mors)\n",
    "    \n",
    "    rd = data.frame(Gloss = glosses, mor = mors, atTags)\n",
    "    if (nrow(rd) > 0){                        \n",
    "        row$sentGloss = paste(glosses, collapse = ' ')\n",
    "        row$sentMor = paste(mors, collapse= ' ')        \n",
    "        \n",
    "        if('xgr' %in% names(row)){\n",
    "            row$xgr = gsub('\\\\t','',row$xgr)            \n",
    "        }\n",
    "        selectRows = names(row)[names(row) %in% metadataRows] #only select those from the desired columns that are present\n",
    "        return(cbind(rd, row[,selectRows], row.names = NULL)) #returns df, number of words * columns\n",
    "    } else {\n",
    "        print(row)\n",
    "        stop('Zero-length return data')\n",
    "    }  \n",
    "}\n",
    "\n",
    "process_backslash_mor = function(original_gloss, original_mor, reformulations){\n",
    "\tprint(paste('processing gloss:', original_gloss))\n",
    "    pb = try({\n",
    "    \toriginal_gloss = gsub('[()]','', original_gloss)\n",
    "    \tog_sep = gsub('<', '< ', gsub('>', ' >',original_gloss))\n",
    "    \t\n",
    "    \t#reverse both and parse from the back\n",
    "    \tog = rev(strsplit(og_sep, ' ')[[1]])\n",
    "    \t#delete the punctuation, if it exists\n",
    "    \tif (nchar(gsub('[[:punct:]]','',og[1])) == 0 ){\n",
    "    \t\tog = og[-1]\n",
    "    \t}\t\t\t\n",
    "    \t\n",
    "        om = rev(original_mor)\n",
    "    \tif (nchar(gsub('[[:punct:]]','',om[1])) == 0 ){\n",
    "    \t\tom = om[-1]\n",
    "    \t}\t\t\t\n",
    "    \t\t\n",
    "    \t#then parse both from back to front. > means the beginning of a sequenct, and > the end.\n",
    "\n",
    "    \tinReformulation = F\n",
    "    \tnew_mor = list()\n",
    "    \tnew_mor_index = 0\n",
    "    \told_mor_index = 0\n",
    "    \tmarkerPrevious = T \n",
    "    \t\n",
    "    \tfor (i in 1:length(og)){\n",
    "    \t\tif(length(grep(reformulations, og[i])) > 0){\n",
    "    \t\t\t#reformulation marker found\n",
    "    \t\t\tinReformulation = T\t\t\t\n",
    "    \t\t\tmarkerPrevious = T\t\t\t\n",
    "    \t\t} else if (inReformulation & og[i] == '>'){\n",
    "    \t\t\t#beginning marker, don't do anything\n",
    "    \t\t\tmarkerPrevious=F\n",
    "    \t\t} else if (inReformulation & og[i] == '<'){\n",
    "    \t\t\t#end marker; end inReformulation\n",
    "    \t\t\tinReformulation = F\n",
    "    \t\t} else if (inReformulation & markerPrevious){\n",
    "    \t\t\t#single content item in the reformulation\t\t\t\n",
    "    \t\t\tnew_mor_index = new_mor_index+1\n",
    "    \t\t\tnew_mor[new_mor_index] = 'BRK'\n",
    "    \t\t\tinReformulation = F\n",
    "    \t\t\tmarkerPrevious = F \n",
    "    \t\t} else if (inReformulation ){\t\t\t\t\n",
    "    \t\t\t#content item in the reformulation\t\t\t\n",
    "    \t\t\tnew_mor_index = new_mor_index+1\n",
    "    \t\t\tnew_mor[new_mor_index] = 'BRK'\n",
    "    \t\t} else {\n",
    "    \t\t\tnew_mor_index = new_mor_index+1\n",
    "    \t\t\told_mor_index = old_mor_index+1\n",
    "    \t\t\tnew_mor[new_mor_index] = om[old_mor_index]\t\t\t\t\t\n",
    "    \t\t}\t\n",
    "    \t}\n",
    "    \t\n",
    "    \treturn(rev(sapply(new_mor, function(x){x[1]})))\n",
    "    })\n",
    "    if (inherits(pb, 'try-error')) return(NA)  \n",
    "}\n",
    "\n",
    "removeAudioTags = function(unlistedwords){\t\n",
    "\tcharLengths = sapply(unlistedwords, nchar)\n",
    "\tnumNonNumbers = sapply(unlistedwords, function(x){\n",
    "\t\tnchar(gsub('[[:digit:]_\\\\^+U] *','',x)) \t\t\n",
    "\t})\n",
    "\t\n",
    "\ttagIndices = (charLengths > 5) & (numNonNumbers <= 2) \n",
    "\tif(any(tagIndices)){\n",
    "\t\treturn(unlistedwords[-which(tagIndices)]) \t\n",
    "\t} else {\n",
    "\t\treturn(unlistedwords) \t\n",
    "\t}\t\n",
    "}\n",
    "\n",
    "cleanGloss = function(gloss){\n",
    "    #print('cleaning gloss')\n",
    "    originalGloss = gloss\n",
    "    gloss = gsub(\"[^[:alnum:][:space:]'_@+&=]\", '', gloss)  #remove non-apostrophe punctuation  \n",
    "\tgloss = gsub('\\342\\200\\234','\\342\\200\\234 ', gloss)#preceding quotes\n",
    "    gloss = gsub('\\342\\200\\235',' \\342\\200\\235', gloss)#following quotes\n",
    "    gloss = gsub('\\342\\200\\236','', gloss)\n",
    "    unlistedwords = unlist(strsplit(gloss, split = \" \"))\n",
    "    unlistedwords = unlistedwords[!(unlistedwords ==  '')]\n",
    "    unlistedwords = gsub(\"\\\\n|\\\\t\", \" \", unlistedwords)           \n",
    "    unlistedwords = unlistedwords[sapply(gsub('[[:punct:]]','', unlistedwords), nchar) > 0] #remove puntucation-only words\n",
    "    #is the last items a number with > 7 digits? this is a tag, don't return it\n",
    "    if (length(unlistedwords) == 0){\n",
    "        print(originalGloss)\n",
    "        print(unlistedwords)\n",
    "    }\n",
    "    return(removeAudioTags(unlistedwords))\n",
    "}\n",
    "\n",
    "\n",
    "cleanMOR = function(mor){\n",
    "    #print('cleaning mor')\n",
    "    onesplit = gsub(\"cm\\\\|cm|none\\\\|cm\", \"\", unlist(strsplit(mor, \" \")))\n",
    "    onesplit = onesplit[grepl(\"\\\\|\", onesplit)]\n",
    "    onesplit = gsub(\"\\\\n|\\\\t\", \" \", onesplit)\n",
    "    onesplit = unlist(strsplit(onesplit, split = \" \"))\n",
    "    onesplit = gsub(\"[!,?//.]\", \"\", onesplit) #!!! think we probably want to keep this information around\n",
    "    onesplit = onesplit[!(onesplit %in%  c(\"\",\"bq|bq\",\"eq|eq\",\"end|end\"))]        \n",
    "    return(onesplit[sapply(gsub('[[:punct:]]','', onesplit), nchar) > 0])\n",
    "}\n",
    "\n",
    "processClanFile = function(filename){\n",
    "    library('stringr')\n",
    "    print(paste('Processing file:', filename))\n",
    "    df = read.CLAN.file(filename)\n",
    "    if (ncol(df) > 35){ #!!! lower this number if possible\n",
    "        print(names(df))\n",
    "        stop(paste(filename, 'has an invalid structure: too many columns found'))\n",
    "    }\n",
    "    print(names(print))\n",
    "    print(paste('CLANtoR produced dataframe with dimensions:',dim(df)[1], 'by', dim(df)[2]))\n",
    "    \n",
    "    processedSentenceList = lapply(1:nrow(df), function(i){sentenceHandler(df[i,])})\n",
    "    print('Processed sentences')\n",
    "    \n",
    "    allTokens = do.call('rbind.fill', processedSentenceList)            \n",
    "    allTokens$child = cleanFilename(tail(strsplit(filename, '/')[[1]], 2)[1])     \n",
    "    return(allTokens)\n",
    "}\n",
    "\n",
    "processDirectory = function(dirname){    \n",
    "    fnames = paste(dirname, list.files(dirname, recursive=T, pattern = \"\\\\.cha$\"), sep='/')\n",
    "    print(paste('Processing', length(fnames), 'filenames'))\n",
    "    \n",
    "    #!!! multicore this \n",
    "    allFiles = do.call('rbind.fill', lapply(fnames, processClanFile))\n",
    "    #allFiles = do.call('rbind.fill', mclapply(fnames, processClanFile, mc.cores=detectCores()/2))\n",
    "    names(allFiles) = tolower(names(allFiles))\n",
    "    allFiles$age = sapply(allFiles$age, ageToDays)\n",
    "    chaIndices= grep('\\\\.cha', list.files(dirname))\n",
    "    if (length(chaIndices) > 0){\n",
    "        #if .cha in immediate folder, then this is a single-child corpus \n",
    "        exampleCha = list.files(dirname)[chaIndices][1]\n",
    "        allFiles$child = cleanFilename(tail(strsplit(exampleCha, '/')[[1]], 1))\n",
    "    }\n",
    "    allFiles$corpus = cleanFilename(tail(strsplit(dirname, '/')[[1]], 1))   \n",
    "    \n",
    "    return(allFiles)\n",
    "}\n",
    "\n",
    "ageToDays = function(age){\n",
    "    ageParts = strsplit(age, ';')[[1]]\n",
    "    return(ceiling((12*30.5*as.numeric(ageParts[1])) + as.numeric(ageParts[2])*30.5))\t\n",
    "}\n",
    "\n",
    "simpleCap <- function(x) {\n",
    "  s <- strsplit(x, \" \")[[1]]\n",
    "  paste(toupper(substring(s, 1,1)), substring(s, 2),\n",
    "        sep=\"\", collapse=\" \")\n",
    "}\n",
    "\n",
    "cleanFilename = function(filename){\n",
    "    simpleCap(gsub('[0-9]','', gsub('\\\\.cha$','',filename)))\n",
    "}"
   ]
  },
  {
   "cell_type": "code",
   "execution_count": 3,
   "metadata": {
    "collapsed": false
   },
   "outputs": [
    {
     "name": "stdout",
     "output_type": "stream",
     "text": [
      "[1] \"Processing file: /shared_hd0/corpora/childes_new/Bloom70/Peter/01.cha\"\n",
      "NULL\n",
      "[1] \"CLANtoR produced dataframe with dimensions: 2465 by 31\"\n",
      "[1] \"processing gloss: <seesaw> [/] <seesaw> [/] <seesaw> [/] seesaw\"\n"
     ]
    },
    {
     "name": "stderr",
     "output_type": "stream",
     "text": [
      "Warning message:\n",
      "In if (is.na(mors)) {: the condition has length > 1 and only the first element will be used"
     ]
    },
    {
     "name": "stdout",
     "output_type": "stream",
     "text": [
      "[1] \"processing gloss: xxx open [/] open [/] open\"\n"
     ]
    },
    {
     "name": "stderr",
     "output_type": "stream",
     "text": [
      "Warning message:\n",
      "In if (is.na(mors)) {: the condition has length > 1 and only the first element will be used"
     ]
    },
    {
     "name": "stdout",
     "output_type": "stream",
     "text": [
      "[1] \"processing gloss: &hmm [/] &hmm\"\n",
      "[1] \"processing gloss: suitcase [/] suitcase [/] suitcase\"\n"
     ]
    },
    {
     "name": "stderr",
     "output_type": "stream",
     "text": [
      "Warning message:\n",
      "In if (is.na(mors)) {: the condition has length > 1 and only the first element will be used"
     ]
    },
    {
     "name": "stdout",
     "output_type": "stream",
     "text": [
      "[1] \"processing gloss: okay <put the> [/] let's put the trains in the suitcase\"\n"
     ]
    },
    {
     "name": "stderr",
     "output_type": "stream",
     "text": [
      "Warning message:\n",
      "In if (is.na(mors)) {: the condition has length > 1 and only the first element will be used"
     ]
    },
    {
     "name": "stdout",
     "output_type": "stream",
     "text": [
      "[1] \"processing gloss: you have another piece of the tape recorder you've <the microphone> [/] the wire don't you ?\"\n"
     ]
    },
    {
     "name": "stderr",
     "output_type": "stream",
     "text": [
      "Warning message:\n",
      "In if (is.na(mors)) {: the condition has length > 1 and only the first element will be used"
     ]
    },
    {
     "name": "stdout",
     "output_type": "stream",
     "text": [
      "[1] \"processing gloss: oops Peter <it's on your> [/] it's on your apron right here look can you get it\"\n"
     ]
    },
    {
     "name": "stderr",
     "output_type": "stream",
     "text": [
      "Warning message:\n",
      "In if (is.na(mors)) {: the condition has length > 1 and only the first element will be used"
     ]
    },
    {
     "name": "stdout",
     "output_type": "stream",
     "text": [
      "[1] \"processing gloss: nobody's putting their <hands on> [//] arms on the table\"\n"
     ]
    },
    {
     "name": "stderr",
     "output_type": "stream",
     "text": [
      "Warning message:\n",
      "In if (is.na(mors)) {: the condition has length > 1 and only the first element will be used"
     ]
    },
    {
     "name": "stdout",
     "output_type": "stream",
     "text": [
      "[1] \"processing gloss: <do you> [/] do you hear an airplane\"\n"
     ]
    },
    {
     "name": "stderr",
     "output_type": "stream",
     "text": [
      "Warning message:\n",
      "In if (is.na(mors)) {: the condition has length > 1 and only the first element will be used"
     ]
    },
    {
     "name": "stdout",
     "output_type": "stream",
     "text": [
      "[1] \"processing gloss: no you hear <a siren> [/] a siren\"\n"
     ]
    },
    {
     "name": "stderr",
     "output_type": "stream",
     "text": [
      "Warning message:\n",
      "In if (is.na(mors)) {: the condition has length > 1 and only the first element will be used"
     ]
    },
    {
     "name": "stdout",
     "output_type": "stream",
     "text": [
      "[1] \"processing gloss: there it [/] it there it goes see\"\n"
     ]
    },
    {
     "name": "stderr",
     "output_type": "stream",
     "text": [
      "Warning message:\n",
      "In if (is.na(mors)) {: the condition has length > 1 and only the first element will be used"
     ]
    },
    {
     "name": "stdout",
     "output_type": "stream",
     "text": [
      "[1] \"processing gloss: can this ball [/] you think this ball'll roll down there\"\n"
     ]
    },
    {
     "name": "stderr",
     "output_type": "stream",
     "text": [
      "Warning message:\n",
      "In if (is.na(mors)) {: the condition has length > 1 and only the first element will be used"
     ]
    },
    {
     "name": "stdout",
     "output_type": "stream",
     "text": [
      "[1] \"processing gloss: byebye what about the [/] what about the mirror\"\n"
     ]
    },
    {
     "name": "stderr",
     "output_type": "stream",
     "text": [
      "Warning message:\n",
      "In if (is.na(mors)) {: the condition has length > 1 and only the first element will be used"
     ]
    },
    {
     "name": "stdout",
     "output_type": "stream",
     "text": [
      "[1] \"processing gloss:  seesaw seesaw seesaw seesaw see [/] seesaw see [/] yyy !\"\n"
     ]
    },
    {
     "name": "stderr",
     "output_type": "stream",
     "text": [
      "Warning message:\n",
      "In if (is.na(mors)) {: the condition has length > 1 and only the first element will be used"
     ]
    },
    {
     "name": "stdout",
     "output_type": "stream",
     "text": [
      "[1] \"processing gloss: you want me to hit [/] hit them ?\"\n"
     ]
    },
    {
     "name": "stderr",
     "output_type": "stream",
     "text": [
      "Warning message:\n",
      "In if (is.na(mors)) {: the condition has length > 1 and only the first element will be used"
     ]
    },
    {
     "name": "stdout",
     "output_type": "stream",
     "text": [
      "[1] \"processing gloss: <did it> [/] did it <fall through> ?\"\n"
     ]
    },
    {
     "name": "stderr",
     "output_type": "stream",
     "text": [
      "Warning message:\n",
      "In if (is.na(mors)) {: the condition has length > 1 and only the first element will be used"
     ]
    },
    {
     "name": "stdout",
     "output_type": "stream",
     "text": [
      "[1] \"processing gloss: what <do you> [//] doing ?\"\n"
     ]
    },
    {
     "name": "stderr",
     "output_type": "stream",
     "text": [
      "Warning message:\n",
      "In if (is.na(mors)) {: the condition has length > 1 and only the first element will be used"
     ]
    },
    {
     "name": "stdout",
     "output_type": "stream",
     "text": [
      "[1] \"Processed sentences\"\n"
     ]
    }
   ],
   "source": [
    "test = processClanFile('/shared_hd0/corpora/childes_new/Bloom70/Peter/01.cha')"
   ]
  },
  {
   "cell_type": "code",
   "execution_count": null,
   "metadata": {
    "collapsed": false
   },
   "outputs": [
    {
     "name": "stdout",
     "output_type": "stream",
     "text": [
      "[1] \"Processing 28 filenames\"\n",
      "[1] \"Processing file: /shared_hd0/corpora/childes_new/Bloom70/Eric/eric1.cha\"\n",
      "NULL\n",
      "[1] \"CLANtoR produced dataframe with dimensions: 1889 by 27\"\n",
      "[1] \"processing gloss: yyy [//] yyy\"\n",
      "[1] \"processing gloss: I [/] I see you\"\n"
     ]
    },
    {
     "name": "stderr",
     "output_type": "stream",
     "text": [
      "Warning message:\n",
      "In if (is.na(mors)) {: the condition has length > 1 and only the first element will be used"
     ]
    },
    {
     "name": "stdout",
     "output_type": "stream",
     "text": [
      "[1] \"Processed sentences\"\n",
      "[1] \"Processing file: /shared_hd0/corpora/childes_new/Bloom70/Eric/eric2.cha\"\n",
      "NULL\n",
      "[1] \"CLANtoR produced dataframe with dimensions: 3603 by 29\"\n",
      "[1] \"processing gloss: yyy [//] sleep\"\n"
     ]
    },
    {
     "name": "stderr",
     "output_type": "stream",
     "text": [
      "Warning message:\n",
      "In if (is.na(mors)) {: the condition has length > 1 and only the first element will be used"
     ]
    },
    {
     "name": "stdout",
     "output_type": "stream",
     "text": [
      "[1] \"Processed sentences\"\n",
      "[1] \"Processing file: /shared_hd0/corpora/childes_new/Bloom70/Eric/eric3.cha\"\n",
      "NULL\n",
      "[1] \"CLANtoR produced dataframe with dimensions: 1790 by 27\"\n",
      "[1] \"Processed sentences\"\n",
      "[1] \"Processing file: /shared_hd0/corpora/childes_new/Bloom70/Gia/gia1.cha\"\n",
      "NULL\n",
      "[1] \"CLANtoR produced dataframe with dimensions: 8 by 17\"\n",
      "[1] \"Processed sentences\"\n",
      "[1] \"Processing file: /shared_hd0/corpora/childes_new/Bloom70/Gia/gia2.cha\"\n",
      "NULL\n",
      "[1] \"CLANtoR produced dataframe with dimensions: 51 by 18\"\n",
      "[1] \"Processed sentences\"\n",
      "[1] \"Processing file: /shared_hd0/corpora/childes_new/Bloom70/Gia/gia3.cha\"\n",
      "NULL\n",
      "[1] \"CLANtoR produced dataframe with dimensions: 62 by 17\"\n",
      "[1] \"Processed sentences\"\n",
      "[1] \"Processing file: /shared_hd0/corpora/childes_new/Bloom70/Gia/gia4.cha\"\n",
      "NULL\n",
      "[1] \"CLANtoR produced dataframe with dimensions: 70 by 17\"\n",
      "[1] \"Processed sentences\"\n",
      "[1] \"Processing file: /shared_hd0/corpora/childes_new/Bloom70/Gia/gia5.cha\"\n",
      "NULL\n",
      "[1] \"CLANtoR produced dataframe with dimensions: 163 by 17\"\n",
      "[1] \"Processed sentences\"\n",
      "[1] \"Processing file: /shared_hd0/corpora/childes_new/Bloom70/Peter/01.cha\"\n",
      "NULL\n",
      "[1] \"CLANtoR produced dataframe with dimensions: 2465 by 31\"\n",
      "[1] \"processing gloss: <seesaw> [/] <seesaw> [/] <seesaw> [/] seesaw\"\n"
     ]
    },
    {
     "name": "stderr",
     "output_type": "stream",
     "text": [
      "Warning message:\n",
      "In if (is.na(mors)) {: the condition has length > 1 and only the first element will be used"
     ]
    },
    {
     "name": "stdout",
     "output_type": "stream",
     "text": [
      "[1] \"processing gloss: xxx open [/] open [/] open\"\n"
     ]
    },
    {
     "name": "stderr",
     "output_type": "stream",
     "text": [
      "Warning message:\n",
      "In if (is.na(mors)) {: the condition has length > 1 and only the first element will be used"
     ]
    },
    {
     "name": "stdout",
     "output_type": "stream",
     "text": [
      "[1] \"processing gloss: &hmm [/] &hmm\"\n",
      "[1] \"processing gloss: suitcase [/] suitcase [/] suitcase\"\n"
     ]
    },
    {
     "name": "stderr",
     "output_type": "stream",
     "text": [
      "Warning message:\n",
      "In if (is.na(mors)) {: the condition has length > 1 and only the first element will be used"
     ]
    },
    {
     "name": "stdout",
     "output_type": "stream",
     "text": [
      "[1] \"processing gloss: okay <put the> [/] let's put the trains in the suitcase\"\n"
     ]
    },
    {
     "name": "stderr",
     "output_type": "stream",
     "text": [
      "Warning message:\n",
      "In if (is.na(mors)) {: the condition has length > 1 and only the first element will be used"
     ]
    },
    {
     "name": "stdout",
     "output_type": "stream",
     "text": [
      "[1] \"processing gloss: you have another piece of the tape recorder you've <the microphone> [/] the wire don't you ?\"\n"
     ]
    },
    {
     "name": "stderr",
     "output_type": "stream",
     "text": [
      "Warning message:\n",
      "In if (is.na(mors)) {: the condition has length > 1 and only the first element will be used"
     ]
    }
   ],
   "source": [
    "bloom70 = processDirectory('/shared_hd0/corpora/childes_new/Bloom70') "
   ]
  },
  {
   "cell_type": "code",
   "execution_count": 19,
   "metadata": {
    "collapsed": false
   },
   "outputs": [],
   "source": [
    "#connect R to mysql\n",
    "library('RMySQL')\n",
    "childes_db = dbConnect(MySQL(), user=config[['username']], password=config[['password']], dbname=config[['dbasename']], host=config[['host']])"
   ]
  },
  {
   "cell_type": "code",
   "execution_count": null,
   "metadata": {
    "collapsed": false
   },
   "outputs": [],
   "source": [
    "#write the dataframe to the remote\n",
    "\n",
    "dbWriteTable(childes_db, bloom70, name = \"words\", row.names = F, overwrite=T)  "
   ]
  },
  {
   "cell_type": "code",
   "execution_count": null,
   "metadata": {
    "collapsed": false
   },
   "outputs": [],
   "source": [
    "#to start it, point it at a specific dictionary\n",
    "suppes = processDirectory('/shared_hd0/corpora/childes_new/Suppes') "
   ]
  },
  {
   "cell_type": "code",
   "execution_count": null,
   "metadata": {
    "collapsed": false
   },
   "outputs": [],
   "source": [
    "dbWriteTable(childes_db, suppes, name = \"words\", row.names = F, append=T)  "
   ]
  },
  {
   "cell_type": "code",
   "execution_count": null,
   "metadata": {
    "collapsed": false
   },
   "outputs": [],
   "source": [
    "providence = processDirectory('/shared_hd0/corpora/childes_new/Providence') "
   ]
  },
  {
   "cell_type": "code",
   "execution_count": null,
   "metadata": {
    "collapsed": false
   },
   "outputs": [],
   "source": [
    "dbWriteTable(childes_db, providence, name = \"words\", row.names = F, append=T)  "
   ]
  },
  {
   "cell_type": "code",
   "execution_count": null,
   "metadata": {
    "collapsed": false
   },
   "outputs": [],
   "source": [
    "brown = processDirectory('/shared_hd0/corpora/childes_new/Brown') "
   ]
  },
  {
   "cell_type": "code",
   "execution_count": null,
   "metadata": {
    "collapsed": false
   },
   "outputs": [],
   "source": [
    "dbWriteTable(childes_db, brown, name = \"words\", row.names = F, append=T)  "
   ]
  },
  {
   "cell_type": "code",
   "execution_count": null,
   "metadata": {
    "collapsed": false
   },
   "outputs": [],
   "source": [
    "kuczaj = processDirectory('/shared_hd0/corpora/childes_new/Kuczaj') "
   ]
  },
  {
   "cell_type": "code",
   "execution_count": null,
   "metadata": {
    "collapsed": false
   },
   "outputs": [],
   "source": [
    "dbWriteTable(childes_db, kuczaj, name = \"words\", row.names = F, append=T)  "
   ]
  },
  {
   "cell_type": "code",
   "execution_count": null,
   "metadata": {
    "collapsed": false
   },
   "outputs": [],
   "source": [
    "sachs = processDirectory('/shared_hd0/corpora/childes_new/Sachs') "
   ]
  },
  {
   "cell_type": "code",
   "execution_count": null,
   "metadata": {
    "collapsed": false
   },
   "outputs": [],
   "source": [
    "dbWriteTable(childes_db, sachs, name = \"words\", row.names = F, append=T)  "
   ]
  },
  {
   "cell_type": "code",
   "execution_count": null,
   "metadata": {
    "collapsed": true
   },
   "outputs": [],
   "source": [
    "#Need some reliable desgination of the child\n",
    "#break apart the corpus schema"
   ]
  },
  {
   "cell_type": "code",
   "execution_count": null,
   "metadata": {
    "collapsed": true
   },
   "outputs": [],
   "source": [
    "<li>Post</li>\n",
    "<li>Bates</li>\n",
    "<li>Demettras</li>\n",
    "<li>Braunwald</li>\n",
    "<li>Clark</li>\n",
    "<li>Davis</li>\n",
    "<li>Feldman</li>\n",
    "<li>Inkelas (no morphology?)</li>\n",
    "<li>MacWhinney</li>\n",
    "<li>Weist</li>"
   ]
  },
  {
   "cell_type": "code",
   "execution_count": null,
   "metadata": {
    "collapsed": false
   },
   "outputs": [],
   "source": [
    "higginson = processDirectory('/shared_hd0/corpora/childes_new/Higginson')"
   ]
  },
  {
   "cell_type": "code",
   "execution_count": null,
   "metadata": {
    "collapsed": false
   },
   "outputs": [],
   "source": [
    "post = processDirectory('/shared_hd0/corpora/childes_new/Post')"
   ]
  },
  {
   "cell_type": "code",
   "execution_count": null,
   "metadata": {
    "collapsed": false
   },
   "outputs": [],
   "source": [
    "bates = processDirectory('/shared_hd0/corpora/childes_new/Bates')\n",
    "dim(bates)"
   ]
  },
  {
   "cell_type": "code",
   "execution_count": null,
   "metadata": {
    "collapsed": false
   },
   "outputs": [],
   "source": [
    "Demetras1 = processDirectory('/shared_hd0/corpora/childes_new/Demetras1')\n",
    "dim(Demetras1)"
   ]
  },
  {
   "cell_type": "code",
   "execution_count": null,
   "metadata": {
    "collapsed": false
   },
   "outputs": [],
   "source": [
    "Demetras2 = processDirectory('/shared_hd0/corpora/childes_new/Demetras2')\n",
    "dim(Demetras2)"
   ]
  },
  {
   "cell_type": "code",
   "execution_count": null,
   "metadata": {
    "collapsed": false
   },
   "outputs": [],
   "source": [
    "Braunwald = processDirectory('/shared_hd0/corpora/childes_new/Braunwald')\n",
    "dim(Braunwald)"
   ]
  },
  {
   "cell_type": "code",
   "execution_count": null,
   "metadata": {
    "collapsed": false
   },
   "outputs": [],
   "source": [
    "test = processClanFile('/shared_hd0/corpora/childes_new/Braunwald/2-06-15.cha')"
   ]
  },
  {
   "cell_type": "code",
   "execution_count": null,
   "metadata": {
    "collapsed": false
   },
   "outputs": [],
   "source": [
    "manchester = processDirectory('/shared_hd0/corpora/childes_uk/Manchester')"
   ]
  },
  {
   "cell_type": "code",
   "execution_count": null,
   "metadata": {
    "collapsed": false
   },
   "outputs": [],
   "source": [
    "manchester[2,]"
   ]
  },
  {
   "cell_type": "code",
   "execution_count": null,
   "metadata": {
    "collapsed": false
   },
   "outputs": [],
   "source": [
    "dbWriteTable(childes_db, manchester, name = \"words\", row.names = F, append=T)  "
   ]
  },
  {
   "cell_type": "code",
   "execution_count": 13,
   "metadata": {
    "collapsed": false
   },
   "outputs": [],
   "source": [
    "thomas = processDirectory('/shared_hd0/corpora/childes_uk_new/Thomas')\n",
    "thomas$child = 'Thomas'"
   ]
  },
  {
   "cell_type": "code",
   "execution_count": 20,
   "metadata": {
    "collapsed": false
   },
   "outputs": [],
   "source": [
    "dbWriteTable(childes_db, thomas, name = \"words\", row.names = F, append=T)  "
   ]
  }
 ],
 "metadata": {
  "kernelspec": {
   "display_name": "R",
   "language": "R",
   "name": "ir"
  },
  "language_info": {
   "codemirror_mode": "r",
   "file_extension": ".r",
   "mimetype": "text/x-r-source",
   "name": "R",
   "pygments_lexer": "r",
   "version": "3.3.2"
  }
 },
 "nbformat": 4,
 "nbformat_minor": 0
}
